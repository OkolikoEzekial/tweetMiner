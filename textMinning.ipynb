{
 "cells": [
  {
   "cell_type": "code",
   "execution_count": 9,
   "metadata": {},
   "outputs": [],
   "source": [
    "\n",
    "import re\n",
    "import io\n",
    "import csv\n",
    "import tweepy\n",
    "from tweepy import OAuthHandler\n",
    "\n",
    "\n",
    "consumer_key = 'sz6x0nvL0ls9wacR64MZu23z4'\n",
    "consumer_secret = 'ofeGnzduikcHX6iaQMqBCIJ666m6nXAQACIAXMJaFhmC6rjRmT'\n",
    "access_token = '854004678127910913-PUPfQYxIjpBWjXOgE25kys8kmDJdY0G'\n",
    "access_token_secret = 'BC2TxbhKXkdkZ91DXofF7GX8p2JNfbpHqhshW1bwQkgxN'\n",
    "# create OAuthHandler object\n",
    "auth = tweepy.OAuthHandler(consumer_key, consumer_secret)\n",
    "# set access token and secret\n",
    "auth.set_access_token(access_token, access_token_secret)\n",
    "# create tweepy API object to fetch tweets\n",
    "api = tweepy.API(auth)\n",
    "\n",
    "csv_object = open(\"tweets.csv\", 'w', encoding='utf-8')\n",
    "target_file = csv.writer(csv_object)\n",
    "target_file.writerow([\"User Id\",'', \"User Name\",'', \"User ScreenName\",'', \"User's Location\",'', \"Post was Created on\",'', \"Text Content\",'', \"Number of retweet\"])\n",
    "# list to contain variants of the hashtag object\n",
    "hashtag_list=[\" #BERGER2ajah\", \" #BERGERtoAJAH\",\n",
    "\" #berger2ajah\", \" #bergertoajah\",\n",
    "\" #BERGER2AJAH\", \" #Berger2Ajah\", \" #BERGERTOAJAH\"]\n",
    "\n",
    "\n",
    "#loop through the list of hashtag object\n",
    "for i in hashtag_list:\n",
    "    #loop through the tweets\n",
    "    for tweet in tweepy.Cursor(api.search,q=i,count=10000, lang=\"en\",\n",
    "    since=\"2016-01-01\",).items():\n",
    "        target_file.writerow([tweet.id,'',\n",
    "                          tweet.user.name.encode(\"utf-8\"), '',\n",
    "                          tweet.user.screen_name.encode(\"utf-8\"), '',\n",
    "                          tweet.user.location, tweet.user.url, '',\n",
    "                          tweet.created_at,'', \n",
    "                          (tweet.text).encode(\"utf-8\"),'', \n",
    "                          tweet.retweet_count]),'',"
   ]
  },
  {
   "cell_type": "code",
   "execution_count": null,
   "metadata": {},
   "outputs": [],
   "source": []
  }
 ],
 "metadata": {
  "kernelspec": {
   "display_name": "Python 3",
   "language": "python",
   "name": "python3"
  },
  "language_info": {
   "codemirror_mode": {
    "name": "ipython",
    "version": 3
   },
   "file_extension": ".py",
   "mimetype": "text/x-python",
   "name": "python",
   "nbconvert_exporter": "python",
   "pygments_lexer": "ipython3",
   "version": "3.6.5"
  }
 },
 "nbformat": 4,
 "nbformat_minor": 2
}
